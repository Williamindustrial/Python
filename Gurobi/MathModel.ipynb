{
 "cells": [
  {
   "cell_type": "code",
   "execution_count": 1,
   "metadata": {},
   "outputs": [],
   "source": [
    "import  matplotlib.pyplot as plt  \n",
    "import  numpy as npi\n",
    "import math\n",
    "from gurobipy import *"
   ]
  },
  {
   "cell_type": "markdown",
   "metadata": {},
   "source": [
    "# Lectura Archivo FJS"
   ]
  },
  {
   "cell_type": "code",
   "execution_count": 2,
   "metadata": {},
   "outputs": [
    {
     "name": "stdout",
     "output_type": "stream",
     "text": [
      "['3', '2', '1', '119', '2', '103', '1', '1', '111', '3', '3', '75', '1', '70', '2', '120']\n",
      "['3', '1', '1', '93', '2', '1', '90', '2', '76', '1', '1', '89']\n",
      "['3', '2', '1', '109', '2', '112', '1', '1', '113', '3', '2', '93', '3', '71', '1', '98']\n",
      "['3', '2', '2', '79', '1', '107', '1', '1', '71', '1', '1', '103']\n",
      "range(1, 5)\n"
     ]
    }
   ],
   "source": [
    "direcionFJS=\"/Users\\PC\\OneDrive - Universidad de la Sabana\\MDGP\\Combined Job-Shop and VRP\\Instances example\\Sfjs03.txt\"\n",
    "#\"/Users\\PC\\OneDrive - Universidad de la Sabana\\MDGP\\Conference paper\\solomon\\edata\\ela01.fjs\"\n",
    "instanciaFJS = open(direcionFJS)\n",
    "contador=0\n",
    "contadorPedidos=0\n",
    "pedidos=[]\n",
    "maquinas=[]\n",
    "operacionesxpedido=[]\n",
    "TPA={}\n",
    "numeroPedidos=0\n",
    "numeroMaquinas=0\n",
    "for  line in instanciaFJS:\n",
    "    linea= line.split()\n",
    "    if(contador==0):\n",
    "        numeroPedidos=int(linea[0])\n",
    "        numeroMaquinas=int(linea[1])\n",
    "        maquinas=range(numeroMaquinas)\n",
    "        pedidos=range(1,numeroPedidos+1)\n",
    "        dicInitial= {}\n",
    "        for m in range(numeroMaquinas):\n",
    "            dicInitial[m]=0\n",
    "        TPA[(0,0)]=dicInitial\n",
    "    else:\n",
    "        print(linea)\n",
    "        numeroOperacionesPedido= int(linea[0])\n",
    "        operacionesxpedido.append(numeroOperacionesPedido)\n",
    "        contadorElementoLista=1\n",
    "        for operacion in range(numeroOperacionesPedido):\n",
    "            Maquinas= int(linea[contadorElementoLista])\n",
    "            MachinesTime={}\n",
    "            for maquina in range(Maquinas):\n",
    "                maquina= int(linea[contadorElementoLista+1])-1\n",
    "                tiempo= int(linea[contadorElementoLista+2])\n",
    "                contadorElementoLista=contadorElementoLista+2\n",
    "                MachinesTime[maquina]=tiempo\n",
    "            contadorElementoLista=contadorElementoLista+1\n",
    "            TPA[(contadorPedidos+1,operacion+1)]= MachinesTime\n",
    "        contadorPedidos= contadorPedidos+1\n",
    "    contador=contador+1\n",
    "print(pedidos)"
   ]
  },
  {
   "cell_type": "code",
   "execution_count": 3,
   "metadata": {},
   "outputs": [
    {
     "name": "stdout",
     "output_type": "stream",
     "text": [
      "{(0, 0): {0: 0, 1: 0, 2: 0}, (1, 1): {0: 119, 1: 103}, (1, 2): {0: 111}, (1, 3): {2: 75, 0: 70, 1: 120}, (2, 1): {0: 93}, (2, 2): {0: 90, 1: 76}, (2, 3): {0: 89}, (3, 1): {0: 109, 1: 112}, (3, 2): {0: 113}, (3, 3): {1: 93, 2: 71, 0: 98}, (4, 1): {1: 79, 0: 107}, (4, 2): {0: 71}, (4, 3): {0: 103}}\n"
     ]
    }
   ],
   "source": [
    "PM={}\n",
    "TP={}\n",
    "for i,j in TPA:\n",
    "    arreglo={}\n",
    "    ar2={}\n",
    "    for machine in maquinas:\n",
    "        bol= False\n",
    "        for maquina in TPA[i,j]:\n",
    "            if(machine==maquina):\n",
    "                bol= True\n",
    "        if(bol==True):\n",
    "            arreglo[machine]=1\n",
    "            ar2[machine]=TPA[i,j][machine]\n",
    "        else:\n",
    "            arreglo[machine]=0\n",
    "            ar2[machine]=0\n",
    "    PM[(i,j)]=arreglo\n",
    "    TP[(i,j)]=ar2\n",
    "print(TPA)\n",
    "arcos=[(m,i,j,k,l) for m in maquinas for i,j in TPA for k,l in TPA ]"
   ]
  },
  {
   "cell_type": "markdown",
   "metadata": {},
   "source": [
    "# Creación del modelo"
   ]
  },
  {
   "cell_type": "code",
   "execution_count": 4,
   "metadata": {},
   "outputs": [
    {
     "name": "stdout",
     "output_type": "stream",
     "text": [
      "Set parameter Username\n",
      "Academic license - for non-commercial use only - expires 2024-02-02\n"
     ]
    }
   ],
   "source": [
    "model = Model('FJSP-CVRPRT')"
   ]
  },
  {
   "cell_type": "code",
   "execution_count": 5,
   "metadata": {},
   "outputs": [],
   "source": [
    "x= model.addVars(arcos, vtype= GRB.BINARY, name='x')\n",
    "sk= model.addVars([k for k in maquinas],vtype=GRB.INTEGER, name='sk')\n",
    "P=model.addVars([(i,j) for i,j in TPA],vtype= GRB.INTEGER, name='P')\n",
    "SM=model.addVars([(i,j,k) for i,j in TPA for k in maquinas],vtype= GRB.BINARY, name='Sm')\n",
    "IT=model.addVars([(i,j) for i,j in TPA],vtype= GRB.INTEGER, name='IT')\n",
    "TM=model.addVars([(m,i,j) for m in maquinas for i,j in TPA], name= 'TM')\n",
    "ym = model.addVar(vtype=GRB.INTEGER, name= 'makespan')"
   ]
  },
  {
   "cell_type": "markdown",
   "metadata": {},
   "source": [
    "# Agregando restriciones FJS"
   ]
  },
  {
   "cell_type": "code",
   "execution_count": 6,
   "metadata": {},
   "outputs": [
    {
     "name": "stdout",
     "output_type": "stream",
     "text": [
      "{(0, 0): {0: 0, 1: 0, 2: 0}, (1, 1): {0: 119, 1: 103}, (1, 2): {0: 111}, (1, 3): {2: 75, 0: 70, 1: 120}, (2, 1): {0: 93}, (2, 2): {0: 90, 1: 76}, (2, 3): {0: 89}, (3, 1): {0: 109, 1: 112}, (3, 2): {0: 113}, (3, 3): {1: 93, 2: 71, 0: 98}, (4, 1): {1: 79, 0: 107}, (4, 2): {0: 71}, (4, 3): {0: 103}}\n"
     ]
    }
   ],
   "source": [
    "print(TPA)"
   ]
  },
  {
   "cell_type": "code",
   "execution_count": 7,
   "metadata": {},
   "outputs": [
    {
     "data": {
      "text/plain": [
       "{0: <gurobi.Constr *Awaiting Model Update*>,\n",
       " 1: <gurobi.Constr *Awaiting Model Update*>,\n",
       " 2: <gurobi.Constr *Awaiting Model Update*>,\n",
       " 3: <gurobi.Constr *Awaiting Model Update*>}"
      ]
     },
     "execution_count": 7,
     "metadata": {},
     "output_type": "execute_result"
    }
   ],
   "source": [
    "model.addConstrs(quicksum(SM[i,j,m] for m in maquinas)==1 for i,j in TPA if i>0)\n",
    "model.addConstrs(PM[i,j][m]>= SM[i,j,m] for i,j in TPA for m in maquinas if i>0)\n",
    "\n",
    "model.addConstrs((SM[i,j,k]==1) >> (P[i,j]==TP[i,j][k]) for i, j in TP for k in maquinas)\n",
    "#model.addConstrs((P[i,j]>=TP[i,j][k]*SM[i,j,k]) for i, j in TP for k in maquinas)\n",
    "\n",
    "model.addConstrs(IT[i,j]+P[i,j]<=IT[i,j+1] for i,j in TPA if(i>0) and (j<operacionesxpedido[i-1]))\n",
    "model.addConstrs(SM[i,j,m]>=x[m,i,j,k,l]for m,i,j,k,l in arcos)\n",
    "\n",
    "\n",
    "model.addConstrs(quicksum(x[m,i,j,k,l] for k,l in TPA if(k,l)!=(i,j))==SM[i,j,m] for m in maquinas for i,j in TPA if(i>0))\n",
    "model.addConstrs(quicksum(x[m,i,j,k,l] for i,j in TPA if(k,l)!=(i,j))==SM[k,l,m] for m in maquinas for k,l in TPA if(k>0))\n",
    "\n",
    "model.addConstrs(quicksum(x[m,0,0,k,l] for k,l in TPA)==1 for m in maquinas)\n",
    "model.addConstrs(quicksum(x[m,i,j,0,0] for i,j in TPA)==1 for m in maquinas)\n",
    "\n",
    "model.addConstrs((x[m,i,j,k,l]==1) >>(TM[m,k,l]>=TM[m,i,j] +P[i,j]) for m in maquinas for i,j in TPA for k,l in TPA if k>0)\n",
    "model.addConstrs((x[m,i,j,k,l]==1) >>(TM[m,i,j]>=IT[i,j]) for m in maquinas for i,j in TPA for k,l in TPA)\n",
    "model.addConstrs((x[m,i,j,k,l]==1) >>(IT[i,j]>=TM[m,i,j]) for m in maquinas for i,j in TPA for k,l in TPA)\n",
    "\n",
    "Ci=model.addVars([(i) for i in range(numeroPedidos)],vtype=GRB.INTEGER)\n",
    "model.addConstrs(Ci[i]==IT[i+1,operacionesxpedido[i]]+P[i+1,operacionesxpedido[i]] for i in range(numeroPedidos))\n",
    "model.addConstrs(ym>=IT[i+1,operacionesxpedido[i]]+P[i+1,operacionesxpedido[i]]for i in range(numeroPedidos))"
   ]
  },
  {
   "cell_type": "markdown",
   "metadata": {},
   "source": [
    "# Lectura de datos VRP"
   ]
  },
  {
   "cell_type": "code",
   "execution_count": 8,
   "metadata": {},
   "outputs": [
    {
     "name": "stdout",
     "output_type": "stream",
     "text": [
      "{(0, 0): {'x': 40, 'y': 50, 'w': 0}, (1, 0): {'x': 45, 'y': 68, 'w': 10}, (2, 0): {'x': 45, 'y': 70, 'w': 30}, (3, 0): {'x': 42, 'y': 66, 'w': 10}, (4, 0): {'x': 42, 'y': 68, 'w': 10}}\n"
     ]
    }
   ],
   "source": [
    "direccionVRP='/Users\\PC\\OneDrive - Universidad de la Sabana\\MDGP\\Conference paper\\solomon\\SolomonIntance\\c101.txt'\n",
    "instancia = open(direccionVRP)\n",
    "contador =0\n",
    "ubicaciones={}\n",
    "contadorOrder=0\n",
    "contadorProduct=0\n",
    "product=1\n",
    "for  line in instancia:\n",
    "    if contador >8 and contador<=(numeroPedidos+1)*product+8:\n",
    "        linea= line.split()\n",
    "        if(contadorProduct==product):\n",
    "            contadorProduct=0\n",
    "            contadorOrder=contadorOrder+1\n",
    "        ubicaciones[(int(contadorOrder),int(contadorProduct))]={'x':int(linea[1]),'y':int(linea[2]), 'w':int(linea[3])}\n",
    "        contadorProduct=contadorProduct+1\n",
    "    contador=contador+1\n",
    "Distancia={}\n",
    "rutas=15\n",
    "arcosVRP=[(r,i,j,k,l) for r in range(rutas) for i,j in ubicaciones for k,l in ubicaciones]\n",
    "for ubicacion in ubicaciones:\n",
    "    for ubicacion2 in ubicaciones:\n",
    "        if(ubicacion!=ubicacion2):\n",
    "            x1=int(ubicaciones[ubicacion]['x'])\n",
    "            x2=int(ubicaciones[ubicacion2]['x'])\n",
    "            y1=int(ubicaciones[ubicacion]['y'])\n",
    "            y2=int(ubicaciones[ubicacion2]['y'])\n",
    "            Distancia[(ubicacion, ubicacion2)]= int(round(npi.hypot(x1-x2, y1-y2))*60/17)\n",
    "\n",
    "print(ubicaciones)"
   ]
  },
  {
   "cell_type": "code",
   "execution_count": 9,
   "metadata": {},
   "outputs": [
    {
     "name": "stdout",
     "output_type": "stream",
     "text": [
      "<_io.TextIOWrapper name='/Users\\\\PC\\\\OneDrive - Universidad de la Sabana\\\\MDGP\\\\Conference paper\\\\solomon\\\\SolomonIntance\\\\c101.txt' mode='r' encoding='cp1252'>\n"
     ]
    }
   ],
   "source": [
    "print(instancia)"
   ]
  },
  {
   "cell_type": "markdown",
   "metadata": {},
   "source": [
    "# Restriciones VRP"
   ]
  },
  {
   "cell_type": "markdown",
   "metadata": {},
   "source": [
    "Creación de variables"
   ]
  },
  {
   "cell_type": "code",
   "execution_count": 10,
   "metadata": {},
   "outputs": [],
   "source": [
    "ITV=model.addVars([(r) for r in range(rutas)], vtype=GRB.INTEGER)\n",
    "Bina=model.addVars([(i,s,r) for i,s in ubicaciones for r in range(rutas)], vtype=GRB.BINARY, name='B')\n",
    "U=model.addVars([(r,i,s) for r in range(rutas) for i,s in ubicaciones], vtype=GRB.INTEGER)\n",
    "xv= model.addVars(arcosVRP, vtype= GRB.BINARY, name='xv')\n",
    "TTV=model.addVars([(r) for r in range(rutas)], vtype=GRB.INTEGER)\n",
    "CRMAX= model.addVar(vtype=GRB.INTEGER)"
   ]
  },
  {
   "cell_type": "markdown",
   "metadata": {},
   "source": [
    "Restriciones"
   ]
  },
  {
   "cell_type": "code",
   "execution_count": 11,
   "metadata": {},
   "outputs": [
    {
     "data": {
      "text/plain": [
       "{0: <gurobi.Constr *Awaiting Model Update*>,\n",
       " 1: <gurobi.Constr *Awaiting Model Update*>,\n",
       " 2: <gurobi.Constr *Awaiting Model Update*>,\n",
       " 3: <gurobi.Constr *Awaiting Model Update*>,\n",
       " 4: <gurobi.Constr *Awaiting Model Update*>,\n",
       " 5: <gurobi.Constr *Awaiting Model Update*>,\n",
       " 6: <gurobi.Constr *Awaiting Model Update*>,\n",
       " 7: <gurobi.Constr *Awaiting Model Update*>,\n",
       " 8: <gurobi.Constr *Awaiting Model Update*>,\n",
       " 9: <gurobi.Constr *Awaiting Model Update*>,\n",
       " 10: <gurobi.Constr *Awaiting Model Update*>,\n",
       " 11: <gurobi.Constr *Awaiting Model Update*>,\n",
       " 12: <gurobi.Constr *Awaiting Model Update*>,\n",
       " 13: <gurobi.Constr *Awaiting Model Update*>,\n",
       " 14: <gurobi.Constr *Awaiting Model Update*>}"
      ]
     },
     "execution_count": 11,
     "metadata": {},
     "output_type": "execute_result"
    }
   ],
   "source": [
    "model.addConstrs((Bina[i,s,r]==1)>>(ITV[r]>=Ci[i-1]) for i,s in ubicaciones for r in range(rutas) if i>0)\n",
    "model.addConstrs(quicksum(Bina[i,s,r] for r in range(rutas))==1 for i,s in ubicaciones if i>0)\n",
    "model.addConstrs(quicksum(xv[r,i,s,k,t] for k,t in ubicaciones if(k,t)!=(i,s))==Bina[i,s,r] for r in range(rutas) for i,s in ubicaciones if i>0)\n",
    "model.addConstrs(quicksum(xv[r,i,s,k,t] for i,s in ubicaciones if(i,s)!=(k,t))==Bina[k,t,r] for r in range(rutas) for k,t in ubicaciones if k>0)\n",
    "model.addConstrs(quicksum(xv[r,0,0,k,t] for k,t in ubicaciones)==1 for r in range(rutas))\n",
    "model.addConstrs(quicksum(xv[r,i,s,0,0] for i,s in ubicaciones)==1 for r in range(rutas))\n",
    "model.addConstrs((U[r,i,s]+1<=10*(1-xv[r,i,s,k,t])+U[r,k,t]) for r,i,s,k,t in arcosVRP if(i,s)!=(k,t) and k>0)\n",
    "model.addConstrs((TTV[r]==quicksum(Distancia[(i,s),(k,t)]*xv[r,i,s,k,t] for i,s in ubicaciones\n",
    "for k,t in ubicaciones if(i,s)!=(k,t))) for r in range(rutas))"
   ]
  },
  {
   "cell_type": "code",
   "execution_count": 12,
   "metadata": {},
   "outputs": [
    {
     "data": {
      "text/plain": [
       "{0: <gurobi.Constr *Awaiting Model Update*>,\n",
       " 1: <gurobi.Constr *Awaiting Model Update*>,\n",
       " 2: <gurobi.Constr *Awaiting Model Update*>,\n",
       " 3: <gurobi.Constr *Awaiting Model Update*>,\n",
       " 4: <gurobi.Constr *Awaiting Model Update*>,\n",
       " 5: <gurobi.Constr *Awaiting Model Update*>,\n",
       " 6: <gurobi.Constr *Awaiting Model Update*>,\n",
       " 7: <gurobi.Constr *Awaiting Model Update*>,\n",
       " 8: <gurobi.Constr *Awaiting Model Update*>,\n",
       " 9: <gurobi.Constr *Awaiting Model Update*>,\n",
       " 10: <gurobi.Constr *Awaiting Model Update*>,\n",
       " 11: <gurobi.Constr *Awaiting Model Update*>,\n",
       " 12: <gurobi.Constr *Awaiting Model Update*>,\n",
       " 13: <gurobi.Constr *Awaiting Model Update*>,\n",
       " 14: <gurobi.Constr *Awaiting Model Update*>}"
      ]
     },
     "execution_count": 12,
     "metadata": {},
     "output_type": "execute_result"
    }
   ],
   "source": [
    "model.addConstrs(ITV[r]==0 for r in range(rutas) for i in ubicaciones if r==0)\n",
    "model.addConstrs(ITV[r]==ITV[r-1]+120 for r in range(rutas) for i in ubicaciones if r>0)\n",
    "model.addConstrs((CRMAX>=TTV[r]+ ITV[r]-1000000*xv[r,0,0,0,0]) for r in range(rutas))\n",
    "#model.addConstrs((CRMAX>=TTV[r]+ ITV[r]) for r in range(rutas))"
   ]
  },
  {
   "cell_type": "markdown",
   "metadata": {},
   "source": [
    "#  Definiendo función objetivo"
   ]
  },
  {
   "cell_type": "code",
   "execution_count": 13,
   "metadata": {},
   "outputs": [
    {
     "name": "stdout",
     "output_type": "stream",
     "text": [
      "Set parameter MIPGap to value 0.35\n"
     ]
    }
   ],
   "source": [
    "model.setObjective(CRMAX,GRB.MINIMIZE)\n",
    "model.Params.MIPGAP=0.35"
   ]
  },
  {
   "cell_type": "markdown",
   "metadata": {},
   "source": [
    "# Correr el modelo"
   ]
  },
  {
   "cell_type": "code",
   "execution_count": 14,
   "metadata": {},
   "outputs": [
    {
     "name": "stdout",
     "output_type": "stream",
     "text": [
      "Gurobi Optimizer version 10.0.1 build v10.0.1rc0 (win64)\n",
      "\n",
      "CPU model: Intel(R) Core(TM) i7-8550U CPU @ 1.80GHz, instruction set [SSE2|AVX|AVX2]\n",
      "Thread count: 4 physical cores, 8 logical processors, using up to 8 threads\n",
      "\n",
      "Optimize a model with 1148 rows, 1175 columns and 4198 nonzeros\n",
      "Model fingerprint: 0xc469e9cd\n",
      "Model has 1581 general constraints\n",
      "Variable types: 39 continuous, 1136 integer (996 binary)\n",
      "Coefficient statistics:\n",
      "  Matrix range     [1e+00, 1e+06]\n",
      "  Objective range  [1e+00, 1e+00]\n",
      "  Bounds range     [1e+00, 1e+00]\n",
      "  RHS range        [1e+00, 1e+02]\n",
      "  GenCon rhs range [7e+01, 1e+02]\n",
      "  GenCon coe range [1e+00, 1e+00]\n",
      "Presolve added 0 rows and 81 columns\n",
      "Presolve removed 112 rows and 0 columns\n",
      "Presolve time: 0.06s\n",
      "Presolved: 1036 rows, 1256 columns, 3886 nonzeros\n",
      "Presolved model has 652 SOS constraint(s)\n",
      "Variable types: 621 continuous, 635 integer (517 binary)\n",
      "\n",
      "Root relaxation: objective 0.000000e+00, 459 iterations, 0.01 seconds (0.00 work units)\n",
      "\n",
      "    Nodes    |    Current Node    |     Objective Bounds      |     Work\n",
      " Expl Unexpl |  Obj  Depth IntInf | Incumbent    BestBd   Gap | It/Node Time\n",
      "\n",
      "     0     0    0.00000    0   26          -    0.00000      -     -    0s\n",
      "     0     0    0.00000    0   35          -    0.00000      -     -    0s\n",
      "     0     0    0.00000    0   38          -    0.00000      -     -    0s\n",
      "H    0     0                    1233.0000000    0.00000   100%     -    0s\n",
      "     0     0    0.00000    0   23 1233.00000    0.00000   100%     -    0s\n",
      "H    0     0                    1223.0000000    0.00000   100%     -    0s\n",
      "     0     0    0.00000    0   25 1223.00000    0.00000   100%     -    0s\n",
      "     0     0    0.00000    0   21 1223.00000    0.00000   100%     -    0s\n",
      "     0     0    0.00000    0   34 1223.00000    0.00000   100%     -    0s\n",
      "     0     0    0.00000    0   21 1223.00000    0.00000   100%     -    0s\n",
      "     0     0    0.00000    0   25 1223.00000    0.00000   100%     -    0s\n",
      "     0     0    0.00000    0   24 1223.00000    0.00000   100%     -    0s\n",
      "     0     0    0.00000    0   33 1223.00000    0.00000   100%     -    0s\n",
      "     0     0    0.00000    0   25 1223.00000    0.00000   100%     -    0s\n",
      "     0     0    0.00000    0   25 1223.00000    0.00000   100%     -    0s\n",
      "H    0     0                    1220.0000000    0.00000   100%     -    0s\n",
      "H    0     0                    1217.0000000    0.00000   100%     -    0s\n",
      "H    0     2                    1192.0000000    0.00000   100%     -    0s\n",
      "     0     2    0.00000    0   25 1192.00000    0.00000   100%     -    0s\n",
      "H   45    50                    1107.0000000    0.00000   100%  22.2    0s\n",
      "H  293   108                    1094.0000000    0.00000   100%  23.7    0s\n",
      "H 1344   509                     987.0000000    0.00000   100%  20.0    1s\n",
      "H 2700   692                     980.0000000    0.00000   100%  20.4    1s\n",
      "H 4078   907                     952.0000000    0.00000   100%  20.7    2s\n",
      "H 4443   904                     867.0000000    0.00000   100%   0.8    2s\n",
      "  8948  2638    0.00000   35   17  867.00000    0.00000   100%   7.0    5s\n",
      "H 8998  2515                     846.0000000    0.00000   100%   7.1    5s\n",
      " 19574  8701    0.00000   54   27  846.00000    0.00000   100%  11.5   10s\n",
      " 27197 12184    0.00000   73   22  846.00000    0.00000   100%  12.7   15s\n",
      "H27287 11651                     751.0000000    0.00000   100%  12.7   15s\n",
      "H27932 11976                     740.0000000    0.00000   100%  12.8   16s\n",
      " 39289 14715 infeasible   81       740.00000    0.00000   100%  12.2   20s\n",
      "H46487 13906                     726.0000000    0.00000   100%  12.0   23s\n",
      " 49007 13551 infeasible   55       726.00000    0.00000   100%  12.0   25s\n",
      " 61549 12428 infeasible   52       726.00000    0.00000   100%  11.9   30s\n",
      " 69959 11787 infeasible   62       726.00000    0.00000   100%  11.9   35s\n",
      " 81499 10862 infeasible   80       726.00000    0.00000   100%  11.8   40s\n",
      " 94979 10176    0.00000   79   28  726.00000    0.00000   100%  11.6   45s\n",
      " 105239  9584 infeasible   27       726.00000    0.00000   100%  11.6   50s\n",
      " 115391  8709  592.00000   73   15  726.00000    0.00000   100%  11.6   55s\n",
      " 126440  7588 infeasible   53       726.00000    0.00000   100%  11.6   60s\n",
      "\n",
      "Cutting planes:\n",
      "  Learned: 5\n",
      "  Gomory: 1\n",
      "  Implied bound: 6\n",
      "  MIR: 1\n",
      "  Flow cover: 1\n",
      "  Zero half: 3\n",
      "\n",
      "Explored 130399 nodes (1596273 simplex iterations) in 61.07 seconds (20.32 work units)\n",
      "Thread count was 8 (of 8 available processors)\n",
      "\n",
      "Solution count 10: 726 740 751 ... 1107\n",
      "\n",
      "Optimal solution found (tolerance 3.50e-01)\n",
      "Best objective 7.260000000000e+02, best bound 4.720000000000e+02, gap 34.9862%\n"
     ]
    }
   ],
   "source": [
    "model.optimize()"
   ]
  },
  {
   "cell_type": "code",
   "execution_count": 15,
   "metadata": {},
   "outputs": [
    {
     "name": "stdout",
     "output_type": "stream",
     "text": [
      "{0: <gurobi.Var C615 (value 480.0)>, 1: <gurobi.Var C616 (value 426.0)>, 2: <gurobi.Var C617 (value 297.0)>, 3: <gurobi.Var C618 (value 600.0)>}\n"
     ]
    }
   ],
   "source": [
    "print(Ci)"
   ]
  },
  {
   "cell_type": "code",
   "execution_count": 16,
   "metadata": {},
   "outputs": [
    {
     "name": "stdout",
     "output_type": "stream",
     "text": [
      "{0: <gurobi.Var C619 (value 0.0)>, 1: <gurobi.Var C620 (value 120.0)>, 2: <gurobi.Var C621 (value 240.0)>, 3: <gurobi.Var C622 (value 360.0)>, 4: <gurobi.Var C623 (value 480.0)>, 5: <gurobi.Var C624 (value 600.0)>, 6: <gurobi.Var C625 (value 720.0)>, 7: <gurobi.Var C626 (value 840.0)>, 8: <gurobi.Var C627 (value 960.0)>, 9: <gurobi.Var C628 (value 1080.0)>, 10: <gurobi.Var C629 (value 1200.0)>, 11: <gurobi.Var C630 (value 1320.0)>, 12: <gurobi.Var C631 (value 1440.0)>, 13: <gurobi.Var C632 (value 1560.0)>, 14: <gurobi.Var C633 (value 1680.0)>}\n"
     ]
    }
   ],
   "source": [
    "print(ITV)"
   ]
  },
  {
   "cell_type": "code",
   "execution_count": 17,
   "metadata": {},
   "outputs": [
    {
     "name": "stdout",
     "output_type": "stream",
     "text": [
      "{0: <gurobi.Var C1159 (value 0.0)>, 1: <gurobi.Var C1160 (value 0.0)>, 2: <gurobi.Var C1161 (value 0.0)>, 3: <gurobi.Var C1162 (value 0.0)>, 4: <gurobi.Var C1163 (value 148.0)>, 5: <gurobi.Var C1164 (value 126.0)>, 6: <gurobi.Var C1165 (value 0.0)>, 7: <gurobi.Var C1166 (value 0.0)>, 8: <gurobi.Var C1167 (value 0.0)>, 9: <gurobi.Var C1168 (value 0.0)>, 10: <gurobi.Var C1169 (value 0.0)>, 11: <gurobi.Var C1170 (value 0.0)>, 12: <gurobi.Var C1171 (value 0.0)>, 13: <gurobi.Var C1172 (value 0.0)>, 14: <gurobi.Var C1173 (value 0.0)>}\n"
     ]
    }
   ],
   "source": [
    "print(TTV)"
   ]
  },
  {
   "cell_type": "code",
   "execution_count": 18,
   "metadata": {},
   "outputs": [
    {
     "name": "stdout",
     "output_type": "stream",
     "text": [
      "<gurobi.Var xv[0,0,0,0,0] (value 1.0)>\n",
      "<gurobi.Var xv[1,0,0,0,0] (value 1.0)>\n",
      "<gurobi.Var xv[2,0,0,0,0] (value 1.0)>\n",
      "<gurobi.Var xv[3,0,0,0,0] (value 1.0)>\n",
      "<gurobi.Var xv[4,0,0,2,0] (value 1.0)>\n",
      "<gurobi.Var xv[4,1,0,0,0] (value 1.0)>\n",
      "<gurobi.Var xv[4,2,0,1,0] (value 1.0)>\n",
      "<gurobi.Var xv[5,0,0,4,0] (value 1.0)>\n",
      "<gurobi.Var xv[5,3,0,0,0] (value 1.0)>\n",
      "<gurobi.Var xv[5,4,0,3,0] (value 1.0)>\n",
      "<gurobi.Var xv[6,0,0,0,0] (value 1.0)>\n",
      "<gurobi.Var xv[7,0,0,0,0] (value 1.0)>\n",
      "<gurobi.Var xv[8,0,0,0,0] (value 1.0)>\n",
      "<gurobi.Var xv[9,0,0,0,0] (value 1.0)>\n",
      "<gurobi.Var xv[10,0,0,0,0] (value 1.0)>\n",
      "<gurobi.Var xv[11,0,0,0,0] (value 1.0)>\n",
      "<gurobi.Var xv[12,0,0,0,0] (value 1.0)>\n",
      "<gurobi.Var xv[13,0,0,0,0] (value 1.0)>\n",
      "<gurobi.Var xv[14,0,0,0,0] (value 1.0)>\n"
     ]
    }
   ],
   "source": [
    "for arc in arcosVRP:\n",
    "    if (xv[arc].x>0):\n",
    "        print(xv[arc] )"
   ]
  },
  {
   "cell_type": "code",
   "execution_count": 19,
   "metadata": {},
   "outputs": [
    {
     "name": "stdout",
     "output_type": "stream",
     "text": [
      "Machine 0:(2-1)(0.0-93.0) (3-2)(112.99999999999997-225.99999999999997) (1-2)(225.99999999999997-337.0) (2-3)(337.0-426.0) (4-2)(426.0-497.0) (4-3)(497.0-600.0) \n",
      "Machine 1:(3-1)(0.9999999999999716-112.99999999999997) (1-1)(122.99999999999997-225.99999999999997) (2-2)(261.0-337.0) (4-1)(347.0-426.0) \n",
      "Machine 2:(3-3)(225.99999999999997-297.0) (1-3)(405.0-480.0) \n"
     ]
    }
   ],
   "source": [
    "for m in maquinas:\n",
    "    Linea='Machine '+str(m)+':'\n",
    "    initial = (0,0)\n",
    "    follow=(0,0)\n",
    "    Continuar=True\n",
    "    while(Continuar):\n",
    "        initial=follow\n",
    "        for k,l in TPA:\n",
    "            i=initial[0]\n",
    "            j=initial[1]\n",
    "            if (x[m,i,j,k,l].x>0.99):\n",
    "                final=abs(IT[i,j].x+P[i,j].x)\n",
    "                if(initial!=(0,0)):\n",
    "                    Linea=Linea+ '('+str(i)+'-'+str(j)+')'+'('+str(abs(IT[i,j].x))+'-'+str(final)+') '\n",
    "                follow=(k,l)\n",
    "        if(follow==(0,0)):\n",
    "            Continuar=False\n",
    "    print(Linea)"
   ]
  },
  {
   "cell_type": "code",
   "execution_count": 20,
   "metadata": {},
   "outputs": [
    {
     "name": "stdout",
     "output_type": "stream",
     "text": [
      "Route 0:\n",
      "[(0, 0)][40, 50, 0.0]-<gurobi.Var C709 (value -0.0)>\n",
      "0\n",
      "[(0, 0)][40, 50, 0.0]-<gurobi.Var C709 (value -0.0)>\n",
      "Route 1:\n",
      "[(0, 0)][40, 50, 120.0]-<gurobi.Var C714 (value -0.0)>\n",
      "0\n",
      "[(0, 0)][40, 50, 120.0]-<gurobi.Var C714 (value -0.0)>\n",
      "Route 2:\n",
      "[(0, 0)][40, 50, 240.0]-<gurobi.Var C719 (value -0.0)>\n",
      "0\n",
      "[(0, 0)][40, 50, 240.0]-<gurobi.Var C719 (value -0.0)>\n",
      "Route 3:\n",
      "[(0, 0)][40, 50, 360.0]-<gurobi.Var C724 (value -0.0)>\n",
      "0\n",
      "[(0, 0)][40, 50, 360.0]-<gurobi.Var C724 (value -0.0)>\n",
      "Route 4:\n",
      "[(0, 0)][40, 50, 480.0]-<gurobi.Var C729 (value -0.0)>\n",
      "[(2, 0)][45, 70, 554.0]-<gurobi.Var C731 (value 1.0)>\n",
      "[(1, 0)][45, 68, 561.0]-<gurobi.Var C730 (value 2.0)>\n",
      "[(0, 0)][40, 50, 628.0]-<gurobi.Var C730 (value 2.0)>\n",
      "Route 5:\n",
      "[(0, 0)][40, 50, 600.0]-<gurobi.Var C734 (value -0.0)>\n",
      "[(4, 0)][42, 68, 663.0]-<gurobi.Var C738 (value 1.0)>\n",
      "[(3, 0)][42, 66, 670.0]-<gurobi.Var C737 (value 2.0)>\n",
      "[(0, 0)][40, 50, 726.0]-<gurobi.Var C737 (value 2.0)>\n",
      "Route 6:\n",
      "[(0, 0)][40, 50, 720.0]-<gurobi.Var C739 (value -0.0)>\n",
      "0\n",
      "[(0, 0)][40, 50, 720.0]-<gurobi.Var C739 (value -0.0)>\n",
      "Route 7:\n",
      "[(0, 0)][40, 50, 840.0]-<gurobi.Var C744 (value -0.0)>\n",
      "0\n",
      "[(0, 0)][40, 50, 840.0]-<gurobi.Var C744 (value -0.0)>\n",
      "Route 8:\n",
      "[(0, 0)][40, 50, 960.0]-<gurobi.Var C749 (value -0.0)>\n",
      "0\n",
      "[(0, 0)][40, 50, 960.0]-<gurobi.Var C749 (value -0.0)>\n",
      "Route 9:\n",
      "[(0, 0)][40, 50, 1080.0]-<gurobi.Var C754 (value -0.0)>\n",
      "0\n",
      "[(0, 0)][40, 50, 1080.0]-<gurobi.Var C754 (value -0.0)>\n",
      "Route 10:\n",
      "[(0, 0)][40, 50, 1200.0]-<gurobi.Var C759 (value -0.0)>\n",
      "0\n",
      "[(0, 0)][40, 50, 1200.0]-<gurobi.Var C759 (value -0.0)>\n",
      "Route 11:\n",
      "[(0, 0)][40, 50, 1320.0]-<gurobi.Var C764 (value -0.0)>\n",
      "0\n",
      "[(0, 0)][40, 50, 1320.0]-<gurobi.Var C764 (value -0.0)>\n",
      "Route 12:\n",
      "[(0, 0)][40, 50, 1440.0]-<gurobi.Var C769 (value -0.0)>\n",
      "0\n",
      "[(0, 0)][40, 50, 1440.0]-<gurobi.Var C769 (value -0.0)>\n",
      "Route 13:\n",
      "[(0, 0)][40, 50, 1560.0]-<gurobi.Var C774 (value -0.0)>\n",
      "0\n",
      "[(0, 0)][40, 50, 1560.0]-<gurobi.Var C774 (value -0.0)>\n",
      "Route 14:\n",
      "[(0, 0)][40, 50, 1680.0]-<gurobi.Var C779 (value -0.0)>\n",
      "0\n",
      "[(0, 0)][40, 50, 1680.0]-<gurobi.Var C779 (value -0.0)>\n"
     ]
    }
   ],
   "source": [
    "for r in range(rutas):\n",
    "    Linea='Route '+str(r)+':'\n",
    "    print(Linea)\n",
    "    initial = (0,0)\n",
    "    follow=(0,0)\n",
    "    Continuar=True\n",
    "    tiempoVisita= ITV[r].x\n",
    "    while(Continuar):\n",
    "        initial=follow\n",
    "        for k,l in ubicaciones:\n",
    "            i,j=initial\n",
    "            if (xv[r,i,j,k,l].x>0.99):\n",
    "                print('['+str(initial)+']'+'['+str(ubicaciones[i,j]['x'])+', '+str(ubicaciones[i,j]['y'])+', '+str(tiempoVisita)+']-'+str(U[r,i,j]))\n",
    "                try:\n",
    "                    tiempoVisita=tiempoVisita+Distancia[(i,j),(k,l)]\n",
    "                except:\n",
    "                    print(0)\n",
    "                follow=(k,l)\n",
    "        if(follow==(0,0)):\n",
    "            print('['+str(follow)+']'+'['+str(ubicaciones[0,0]['x'])+', '+str(ubicaciones[0,0]['y'])+', '+str(tiempoVisita)+']-'+str(U[r,i,j]))\n",
    "            Continuar=False\n",
    "    "
   ]
  },
  {
   "cell_type": "code",
   "execution_count": 21,
   "metadata": {},
   "outputs": [
    {
     "name": "stdout",
     "output_type": "stream",
     "text": [
      "(0, 0)\n",
      "(1, 0)\n",
      "(2, 0)\n",
      "(3, 0)\n",
      "(4, 0)\n"
     ]
    }
   ],
   "source": [
    "for i in ubicaciones:\n",
    "    print(i)"
   ]
  },
  {
   "cell_type": "code",
   "execution_count": 22,
   "metadata": {},
   "outputs": [
    {
     "name": "stdout",
     "output_type": "stream",
     "text": [
      "<gurobi.Var makespan (value 600.0)>\n"
     ]
    }
   ],
   "source": [
    "print(ym)"
   ]
  },
  {
   "cell_type": "code",
   "execution_count": 23,
   "metadata": {},
   "outputs": [
    {
     "name": "stdout",
     "output_type": "stream",
     "text": [
      "{(0, 0, 0, 0, 0): <gurobi.Var xv[0,0,0,0,0] (value 1.0)>, (0, 0, 0, 1, 0): <gurobi.Var xv[0,0,0,1,0] (value 0.0)>, (0, 0, 0, 2, 0): <gurobi.Var xv[0,0,0,2,0] (value 0.0)>, (0, 0, 0, 3, 0): <gurobi.Var xv[0,0,0,3,0] (value 0.0)>, (0, 0, 0, 4, 0): <gurobi.Var xv[0,0,0,4,0] (value 0.0)>, (0, 1, 0, 0, 0): <gurobi.Var xv[0,1,0,0,0] (value 0.0)>, (0, 1, 0, 1, 0): <gurobi.Var xv[0,1,0,1,0] (value 0.0)>, (0, 1, 0, 2, 0): <gurobi.Var xv[0,1,0,2,0] (value 0.0)>, (0, 1, 0, 3, 0): <gurobi.Var xv[0,1,0,3,0] (value 0.0)>, (0, 1, 0, 4, 0): <gurobi.Var xv[0,1,0,4,0] (value 0.0)>, (0, 2, 0, 0, 0): <gurobi.Var xv[0,2,0,0,0] (value 0.0)>, (0, 2, 0, 1, 0): <gurobi.Var xv[0,2,0,1,0] (value 0.0)>, (0, 2, 0, 2, 0): <gurobi.Var xv[0,2,0,2,0] (value 0.0)>, (0, 2, 0, 3, 0): <gurobi.Var xv[0,2,0,3,0] (value 0.0)>, (0, 2, 0, 4, 0): <gurobi.Var xv[0,2,0,4,0] (value 0.0)>, (0, 3, 0, 0, 0): <gurobi.Var xv[0,3,0,0,0] (value 0.0)>, (0, 3, 0, 1, 0): <gurobi.Var xv[0,3,0,1,0] (value 0.0)>, (0, 3, 0, 2, 0): <gurobi.Var xv[0,3,0,2,0] (value 0.0)>, (0, 3, 0, 3, 0): <gurobi.Var xv[0,3,0,3,0] (value 0.0)>, (0, 3, 0, 4, 0): <gurobi.Var xv[0,3,0,4,0] (value 0.0)>, (0, 4, 0, 0, 0): <gurobi.Var xv[0,4,0,0,0] (value 0.0)>, (0, 4, 0, 1, 0): <gurobi.Var xv[0,4,0,1,0] (value 0.0)>, (0, 4, 0, 2, 0): <gurobi.Var xv[0,4,0,2,0] (value 0.0)>, (0, 4, 0, 3, 0): <gurobi.Var xv[0,4,0,3,0] (value 0.0)>, (0, 4, 0, 4, 0): <gurobi.Var xv[0,4,0,4,0] (value 0.0)>, (1, 0, 0, 0, 0): <gurobi.Var xv[1,0,0,0,0] (value 1.0)>, (1, 0, 0, 1, 0): <gurobi.Var xv[1,0,0,1,0] (value 0.0)>, (1, 0, 0, 2, 0): <gurobi.Var xv[1,0,0,2,0] (value 0.0)>, (1, 0, 0, 3, 0): <gurobi.Var xv[1,0,0,3,0] (value 0.0)>, (1, 0, 0, 4, 0): <gurobi.Var xv[1,0,0,4,0] (value 0.0)>, (1, 1, 0, 0, 0): <gurobi.Var xv[1,1,0,0,0] (value 0.0)>, (1, 1, 0, 1, 0): <gurobi.Var xv[1,1,0,1,0] (value 0.0)>, (1, 1, 0, 2, 0): <gurobi.Var xv[1,1,0,2,0] (value 0.0)>, (1, 1, 0, 3, 0): <gurobi.Var xv[1,1,0,3,0] (value 0.0)>, (1, 1, 0, 4, 0): <gurobi.Var xv[1,1,0,4,0] (value 0.0)>, (1, 2, 0, 0, 0): <gurobi.Var xv[1,2,0,0,0] (value 0.0)>, (1, 2, 0, 1, 0): <gurobi.Var xv[1,2,0,1,0] (value 0.0)>, (1, 2, 0, 2, 0): <gurobi.Var xv[1,2,0,2,0] (value 0.0)>, (1, 2, 0, 3, 0): <gurobi.Var xv[1,2,0,3,0] (value 0.0)>, (1, 2, 0, 4, 0): <gurobi.Var xv[1,2,0,4,0] (value 0.0)>, (1, 3, 0, 0, 0): <gurobi.Var xv[1,3,0,0,0] (value 0.0)>, (1, 3, 0, 1, 0): <gurobi.Var xv[1,3,0,1,0] (value 0.0)>, (1, 3, 0, 2, 0): <gurobi.Var xv[1,3,0,2,0] (value 0.0)>, (1, 3, 0, 3, 0): <gurobi.Var xv[1,3,0,3,0] (value 0.0)>, (1, 3, 0, 4, 0): <gurobi.Var xv[1,3,0,4,0] (value 0.0)>, (1, 4, 0, 0, 0): <gurobi.Var xv[1,4,0,0,0] (value 0.0)>, (1, 4, 0, 1, 0): <gurobi.Var xv[1,4,0,1,0] (value 0.0)>, (1, 4, 0, 2, 0): <gurobi.Var xv[1,4,0,2,0] (value 0.0)>, (1, 4, 0, 3, 0): <gurobi.Var xv[1,4,0,3,0] (value 0.0)>, (1, 4, 0, 4, 0): <gurobi.Var xv[1,4,0,4,0] (value 0.0)>, (2, 0, 0, 0, 0): <gurobi.Var xv[2,0,0,0,0] (value 1.0)>, (2, 0, 0, 1, 0): <gurobi.Var xv[2,0,0,1,0] (value 0.0)>, (2, 0, 0, 2, 0): <gurobi.Var xv[2,0,0,2,0] (value 0.0)>, (2, 0, 0, 3, 0): <gurobi.Var xv[2,0,0,3,0] (value 0.0)>, (2, 0, 0, 4, 0): <gurobi.Var xv[2,0,0,4,0] (value 0.0)>, (2, 1, 0, 0, 0): <gurobi.Var xv[2,1,0,0,0] (value 0.0)>, (2, 1, 0, 1, 0): <gurobi.Var xv[2,1,0,1,0] (value 0.0)>, (2, 1, 0, 2, 0): <gurobi.Var xv[2,1,0,2,0] (value 0.0)>, (2, 1, 0, 3, 0): <gurobi.Var xv[2,1,0,3,0] (value 0.0)>, (2, 1, 0, 4, 0): <gurobi.Var xv[2,1,0,4,0] (value 0.0)>, (2, 2, 0, 0, 0): <gurobi.Var xv[2,2,0,0,0] (value 0.0)>, (2, 2, 0, 1, 0): <gurobi.Var xv[2,2,0,1,0] (value 0.0)>, (2, 2, 0, 2, 0): <gurobi.Var xv[2,2,0,2,0] (value 0.0)>, (2, 2, 0, 3, 0): <gurobi.Var xv[2,2,0,3,0] (value 0.0)>, (2, 2, 0, 4, 0): <gurobi.Var xv[2,2,0,4,0] (value 0.0)>, (2, 3, 0, 0, 0): <gurobi.Var xv[2,3,0,0,0] (value 0.0)>, (2, 3, 0, 1, 0): <gurobi.Var xv[2,3,0,1,0] (value 0.0)>, (2, 3, 0, 2, 0): <gurobi.Var xv[2,3,0,2,0] (value 0.0)>, (2, 3, 0, 3, 0): <gurobi.Var xv[2,3,0,3,0] (value 0.0)>, (2, 3, 0, 4, 0): <gurobi.Var xv[2,3,0,4,0] (value 0.0)>, (2, 4, 0, 0, 0): <gurobi.Var xv[2,4,0,0,0] (value 0.0)>, (2, 4, 0, 1, 0): <gurobi.Var xv[2,4,0,1,0] (value 0.0)>, (2, 4, 0, 2, 0): <gurobi.Var xv[2,4,0,2,0] (value 0.0)>, (2, 4, 0, 3, 0): <gurobi.Var xv[2,4,0,3,0] (value 0.0)>, (2, 4, 0, 4, 0): <gurobi.Var xv[2,4,0,4,0] (value 0.0)>, (3, 0, 0, 0, 0): <gurobi.Var xv[3,0,0,0,0] (value 1.0)>, (3, 0, 0, 1, 0): <gurobi.Var xv[3,0,0,1,0] (value -0.0)>, (3, 0, 0, 2, 0): <gurobi.Var xv[3,0,0,2,0] (value 0.0)>, (3, 0, 0, 3, 0): <gurobi.Var xv[3,0,0,3,0] (value -0.0)>, (3, 0, 0, 4, 0): <gurobi.Var xv[3,0,0,4,0] (value -0.0)>, (3, 1, 0, 0, 0): <gurobi.Var xv[3,1,0,0,0] (value -0.0)>, (3, 1, 0, 1, 0): <gurobi.Var xv[3,1,0,1,0] (value 0.0)>, (3, 1, 0, 2, 0): <gurobi.Var xv[3,1,0,2,0] (value -0.0)>, (3, 1, 0, 3, 0): <gurobi.Var xv[3,1,0,3,0] (value -0.0)>, (3, 1, 0, 4, 0): <gurobi.Var xv[3,1,0,4,0] (value -0.0)>, (3, 2, 0, 0, 0): <gurobi.Var xv[3,2,0,0,0] (value 0.0)>, (3, 2, 0, 1, 0): <gurobi.Var xv[3,2,0,1,0] (value -0.0)>, (3, 2, 0, 2, 0): <gurobi.Var xv[3,2,0,2,0] (value 0.0)>, (3, 2, 0, 3, 0): <gurobi.Var xv[3,2,0,3,0] (value -0.0)>, (3, 2, 0, 4, 0): <gurobi.Var xv[3,2,0,4,0] (value -0.0)>, (3, 3, 0, 0, 0): <gurobi.Var xv[3,3,0,0,0] (value -0.0)>, (3, 3, 0, 1, 0): <gurobi.Var xv[3,3,0,1,0] (value -0.0)>, (3, 3, 0, 2, 0): <gurobi.Var xv[3,3,0,2,0] (value -0.0)>, (3, 3, 0, 3, 0): <gurobi.Var xv[3,3,0,3,0] (value 0.0)>, (3, 3, 0, 4, 0): <gurobi.Var xv[3,3,0,4,0] (value -0.0)>, (3, 4, 0, 0, 0): <gurobi.Var xv[3,4,0,0,0] (value -0.0)>, (3, 4, 0, 1, 0): <gurobi.Var xv[3,4,0,1,0] (value -0.0)>, (3, 4, 0, 2, 0): <gurobi.Var xv[3,4,0,2,0] (value -0.0)>, (3, 4, 0, 3, 0): <gurobi.Var xv[3,4,0,3,0] (value -0.0)>, (3, 4, 0, 4, 0): <gurobi.Var xv[3,4,0,4,0] (value 0.0)>, (4, 0, 0, 0, 0): <gurobi.Var xv[4,0,0,0,0] (value 0.0)>, (4, 0, 0, 1, 0): <gurobi.Var xv[4,0,0,1,0] (value -0.0)>, (4, 0, 0, 2, 0): <gurobi.Var xv[4,0,0,2,0] (value 1.0)>, (4, 0, 0, 3, 0): <gurobi.Var xv[4,0,0,3,0] (value -0.0)>, (4, 0, 0, 4, 0): <gurobi.Var xv[4,0,0,4,0] (value -0.0)>, (4, 1, 0, 0, 0): <gurobi.Var xv[4,1,0,0,0] (value 1.0)>, (4, 1, 0, 1, 0): <gurobi.Var xv[4,1,0,1,0] (value 0.0)>, (4, 1, 0, 2, 0): <gurobi.Var xv[4,1,0,2,0] (value -0.0)>, (4, 1, 0, 3, 0): <gurobi.Var xv[4,1,0,3,0] (value -0.0)>, (4, 1, 0, 4, 0): <gurobi.Var xv[4,1,0,4,0] (value -0.0)>, (4, 2, 0, 0, 0): <gurobi.Var xv[4,2,0,0,0] (value 0.0)>, (4, 2, 0, 1, 0): <gurobi.Var xv[4,2,0,1,0] (value 1.0)>, (4, 2, 0, 2, 0): <gurobi.Var xv[4,2,0,2,0] (value 0.0)>, (4, 2, 0, 3, 0): <gurobi.Var xv[4,2,0,3,0] (value -0.0)>, (4, 2, 0, 4, 0): <gurobi.Var xv[4,2,0,4,0] (value -0.0)>, (4, 3, 0, 0, 0): <gurobi.Var xv[4,3,0,0,0] (value -0.0)>, (4, 3, 0, 1, 0): <gurobi.Var xv[4,3,0,1,0] (value -0.0)>, (4, 3, 0, 2, 0): <gurobi.Var xv[4,3,0,2,0] (value -0.0)>, (4, 3, 0, 3, 0): <gurobi.Var xv[4,3,0,3,0] (value 0.0)>, (4, 3, 0, 4, 0): <gurobi.Var xv[4,3,0,4,0] (value -0.0)>, (4, 4, 0, 0, 0): <gurobi.Var xv[4,4,0,0,0] (value -0.0)>, (4, 4, 0, 1, 0): <gurobi.Var xv[4,4,0,1,0] (value -0.0)>, (4, 4, 0, 2, 0): <gurobi.Var xv[4,4,0,2,0] (value -0.0)>, (4, 4, 0, 3, 0): <gurobi.Var xv[4,4,0,3,0] (value -0.0)>, (4, 4, 0, 4, 0): <gurobi.Var xv[4,4,0,4,0] (value 0.0)>, (5, 0, 0, 0, 0): <gurobi.Var xv[5,0,0,0,0] (value -0.0)>, (5, 0, 0, 1, 0): <gurobi.Var xv[5,0,0,1,0] (value -0.0)>, (5, 0, 0, 2, 0): <gurobi.Var xv[5,0,0,2,0] (value 0.0)>, (5, 0, 0, 3, 0): <gurobi.Var xv[5,0,0,3,0] (value 0.0)>, (5, 0, 0, 4, 0): <gurobi.Var xv[5,0,0,4,0] (value 1.0)>, (5, 1, 0, 0, 0): <gurobi.Var xv[5,1,0,0,0] (value 0.0)>, (5, 1, 0, 1, 0): <gurobi.Var xv[5,1,0,1,0] (value 0.0)>, (5, 1, 0, 2, 0): <gurobi.Var xv[5,1,0,2,0] (value -0.0)>, (5, 1, 0, 3, 0): <gurobi.Var xv[5,1,0,3,0] (value -0.0)>, (5, 1, 0, 4, 0): <gurobi.Var xv[5,1,0,4,0] (value 0.0)>, (5, 2, 0, 0, 0): <gurobi.Var xv[5,2,0,0,0] (value 0.0)>, (5, 2, 0, 1, 0): <gurobi.Var xv[5,2,0,1,0] (value -0.0)>, (5, 2, 0, 2, 0): <gurobi.Var xv[5,2,0,2,0] (value 0.0)>, (5, 2, 0, 3, 0): <gurobi.Var xv[5,2,0,3,0] (value 0.0)>, (5, 2, 0, 4, 0): <gurobi.Var xv[5,2,0,4,0] (value -0.0)>, (5, 3, 0, 0, 0): <gurobi.Var xv[5,3,0,0,0] (value 1.0)>, (5, 3, 0, 1, 0): <gurobi.Var xv[5,3,0,1,0] (value -0.0)>, (5, 3, 0, 2, 0): <gurobi.Var xv[5,3,0,2,0] (value -0.0)>, (5, 3, 0, 3, 0): <gurobi.Var xv[5,3,0,3,0] (value 0.0)>, (5, 3, 0, 4, 0): <gurobi.Var xv[5,3,0,4,0] (value 0.0)>, (5, 4, 0, 0, 0): <gurobi.Var xv[5,4,0,0,0] (value -0.0)>, (5, 4, 0, 1, 0): <gurobi.Var xv[5,4,0,1,0] (value 0.0)>, (5, 4, 0, 2, 0): <gurobi.Var xv[5,4,0,2,0] (value -0.0)>, (5, 4, 0, 3, 0): <gurobi.Var xv[5,4,0,3,0] (value 1.0)>, (5, 4, 0, 4, 0): <gurobi.Var xv[5,4,0,4,0] (value 0.0)>, (6, 0, 0, 0, 0): <gurobi.Var xv[6,0,0,0,0] (value 1.0)>, (6, 0, 0, 1, 0): <gurobi.Var xv[6,0,0,1,0] (value -0.0)>, (6, 0, 0, 2, 0): <gurobi.Var xv[6,0,0,2,0] (value -0.0)>, (6, 0, 0, 3, 0): <gurobi.Var xv[6,0,0,3,0] (value -0.0)>, (6, 0, 0, 4, 0): <gurobi.Var xv[6,0,0,4,0] (value -0.0)>, (6, 1, 0, 0, 0): <gurobi.Var xv[6,1,0,0,0] (value -0.0)>, (6, 1, 0, 1, 0): <gurobi.Var xv[6,1,0,1,0] (value 0.0)>, (6, 1, 0, 2, 0): <gurobi.Var xv[6,1,0,2,0] (value -0.0)>, (6, 1, 0, 3, 0): <gurobi.Var xv[6,1,0,3,0] (value -0.0)>, (6, 1, 0, 4, 0): <gurobi.Var xv[6,1,0,4,0] (value 0.0)>, (6, 2, 0, 0, 0): <gurobi.Var xv[6,2,0,0,0] (value -0.0)>, (6, 2, 0, 1, 0): <gurobi.Var xv[6,2,0,1,0] (value -0.0)>, (6, 2, 0, 2, 0): <gurobi.Var xv[6,2,0,2,0] (value 0.0)>, (6, 2, 0, 3, 0): <gurobi.Var xv[6,2,0,3,0] (value -0.0)>, (6, 2, 0, 4, 0): <gurobi.Var xv[6,2,0,4,0] (value -0.0)>, (6, 3, 0, 0, 0): <gurobi.Var xv[6,3,0,0,0] (value -0.0)>, (6, 3, 0, 1, 0): <gurobi.Var xv[6,3,0,1,0] (value -0.0)>, (6, 3, 0, 2, 0): <gurobi.Var xv[6,3,0,2,0] (value -0.0)>, (6, 3, 0, 3, 0): <gurobi.Var xv[6,3,0,3,0] (value 0.0)>, (6, 3, 0, 4, 0): <gurobi.Var xv[6,3,0,4,0] (value -0.0)>, (6, 4, 0, 0, 0): <gurobi.Var xv[6,4,0,0,0] (value -0.0)>, (6, 4, 0, 1, 0): <gurobi.Var xv[6,4,0,1,0] (value 0.0)>, (6, 4, 0, 2, 0): <gurobi.Var xv[6,4,0,2,0] (value -0.0)>, (6, 4, 0, 3, 0): <gurobi.Var xv[6,4,0,3,0] (value -0.0)>, (6, 4, 0, 4, 0): <gurobi.Var xv[6,4,0,4,0] (value 0.0)>, (7, 0, 0, 0, 0): <gurobi.Var xv[7,0,0,0,0] (value 1.0)>, (7, 0, 0, 1, 0): <gurobi.Var xv[7,0,0,1,0] (value 0.0)>, (7, 0, 0, 2, 0): <gurobi.Var xv[7,0,0,2,0] (value 0.0)>, (7, 0, 0, 3, 0): <gurobi.Var xv[7,0,0,3,0] (value 0.0)>, (7, 0, 0, 4, 0): <gurobi.Var xv[7,0,0,4,0] (value 0.0)>, (7, 1, 0, 0, 0): <gurobi.Var xv[7,1,0,0,0] (value 0.0)>, (7, 1, 0, 1, 0): <gurobi.Var xv[7,1,0,1,0] (value 0.0)>, (7, 1, 0, 2, 0): <gurobi.Var xv[7,1,0,2,0] (value -0.0)>, (7, 1, 0, 3, 0): <gurobi.Var xv[7,1,0,3,0] (value -0.0)>, (7, 1, 0, 4, 0): <gurobi.Var xv[7,1,0,4,0] (value -0.0)>, (7, 2, 0, 0, 0): <gurobi.Var xv[7,2,0,0,0] (value 0.0)>, (7, 2, 0, 1, 0): <gurobi.Var xv[7,2,0,1,0] (value -0.0)>, (7, 2, 0, 2, 0): <gurobi.Var xv[7,2,0,2,0] (value 0.0)>, (7, 2, 0, 3, 0): <gurobi.Var xv[7,2,0,3,0] (value 0.0)>, (7, 2, 0, 4, 0): <gurobi.Var xv[7,2,0,4,0] (value 0.0)>, (7, 3, 0, 0, 0): <gurobi.Var xv[7,3,0,0,0] (value 0.0)>, (7, 3, 0, 1, 0): <gurobi.Var xv[7,3,0,1,0] (value -0.0)>, (7, 3, 0, 2, 0): <gurobi.Var xv[7,3,0,2,0] (value 0.0)>, (7, 3, 0, 3, 0): <gurobi.Var xv[7,3,0,3,0] (value 0.0)>, (7, 3, 0, 4, 0): <gurobi.Var xv[7,3,0,4,0] (value 0.0)>, (7, 4, 0, 0, 0): <gurobi.Var xv[7,4,0,0,0] (value 0.0)>, (7, 4, 0, 1, 0): <gurobi.Var xv[7,4,0,1,0] (value -0.0)>, (7, 4, 0, 2, 0): <gurobi.Var xv[7,4,0,2,0] (value -0.0)>, (7, 4, 0, 3, 0): <gurobi.Var xv[7,4,0,3,0] (value 0.0)>, (7, 4, 0, 4, 0): <gurobi.Var xv[7,4,0,4,0] (value 0.0)>, (8, 0, 0, 0, 0): <gurobi.Var xv[8,0,0,0,0] (value 1.0)>, (8, 0, 0, 1, 0): <gurobi.Var xv[8,0,0,1,0] (value 0.0)>, (8, 0, 0, 2, 0): <gurobi.Var xv[8,0,0,2,0] (value 0.0)>, (8, 0, 0, 3, 0): <gurobi.Var xv[8,0,0,3,0] (value 0.0)>, (8, 0, 0, 4, 0): <gurobi.Var xv[8,0,0,4,0] (value 0.0)>, (8, 1, 0, 0, 0): <gurobi.Var xv[8,1,0,0,0] (value 0.0)>, (8, 1, 0, 1, 0): <gurobi.Var xv[8,1,0,1,0] (value 0.0)>, (8, 1, 0, 2, 0): <gurobi.Var xv[8,1,0,2,0] (value -0.0)>, (8, 1, 0, 3, 0): <gurobi.Var xv[8,1,0,3,0] (value -0.0)>, (8, 1, 0, 4, 0): <gurobi.Var xv[8,1,0,4,0] (value -0.0)>, (8, 2, 0, 0, 0): <gurobi.Var xv[8,2,0,0,0] (value 0.0)>, (8, 2, 0, 1, 0): <gurobi.Var xv[8,2,0,1,0] (value -0.0)>, (8, 2, 0, 2, 0): <gurobi.Var xv[8,2,0,2,0] (value 0.0)>, (8, 2, 0, 3, 0): <gurobi.Var xv[8,2,0,3,0] (value -0.0)>, (8, 2, 0, 4, 0): <gurobi.Var xv[8,2,0,4,0] (value -0.0)>, (8, 3, 0, 0, 0): <gurobi.Var xv[8,3,0,0,0] (value 0.0)>, (8, 3, 0, 1, 0): <gurobi.Var xv[8,3,0,1,0] (value -0.0)>, (8, 3, 0, 2, 0): <gurobi.Var xv[8,3,0,2,0] (value -0.0)>, (8, 3, 0, 3, 0): <gurobi.Var xv[8,3,0,3,0] (value 0.0)>, (8, 3, 0, 4, 0): <gurobi.Var xv[8,3,0,4,0] (value -0.0)>, (8, 4, 0, 0, 0): <gurobi.Var xv[8,4,0,0,0] (value 0.0)>, (8, 4, 0, 1, 0): <gurobi.Var xv[8,4,0,1,0] (value -0.0)>, (8, 4, 0, 2, 0): <gurobi.Var xv[8,4,0,2,0] (value -0.0)>, (8, 4, 0, 3, 0): <gurobi.Var xv[8,4,0,3,0] (value -0.0)>, (8, 4, 0, 4, 0): <gurobi.Var xv[8,4,0,4,0] (value 0.0)>, (9, 0, 0, 0, 0): <gurobi.Var xv[9,0,0,0,0] (value 1.0)>, (9, 0, 0, 1, 0): <gurobi.Var xv[9,0,0,1,0] (value 0.0)>, (9, 0, 0, 2, 0): <gurobi.Var xv[9,0,0,2,0] (value 0.0)>, (9, 0, 0, 3, 0): <gurobi.Var xv[9,0,0,3,0] (value 0.0)>, (9, 0, 0, 4, 0): <gurobi.Var xv[9,0,0,4,0] (value 0.0)>, (9, 1, 0, 0, 0): <gurobi.Var xv[9,1,0,0,0] (value 0.0)>, (9, 1, 0, 1, 0): <gurobi.Var xv[9,1,0,1,0] (value 0.0)>, (9, 1, 0, 2, 0): <gurobi.Var xv[9,1,0,2,0] (value -0.0)>, (9, 1, 0, 3, 0): <gurobi.Var xv[9,1,0,3,0] (value -0.0)>, (9, 1, 0, 4, 0): <gurobi.Var xv[9,1,0,4,0] (value -0.0)>, (9, 2, 0, 0, 0): <gurobi.Var xv[9,2,0,0,0] (value 0.0)>, (9, 2, 0, 1, 0): <gurobi.Var xv[9,2,0,1,0] (value -0.0)>, (9, 2, 0, 2, 0): <gurobi.Var xv[9,2,0,2,0] (value 0.0)>, (9, 2, 0, 3, 0): <gurobi.Var xv[9,2,0,3,0] (value -0.0)>, (9, 2, 0, 4, 0): <gurobi.Var xv[9,2,0,4,0] (value -0.0)>, (9, 3, 0, 0, 0): <gurobi.Var xv[9,3,0,0,0] (value 0.0)>, (9, 3, 0, 1, 0): <gurobi.Var xv[9,3,0,1,0] (value -0.0)>, (9, 3, 0, 2, 0): <gurobi.Var xv[9,3,0,2,0] (value -0.0)>, (9, 3, 0, 3, 0): <gurobi.Var xv[9,3,0,3,0] (value 0.0)>, (9, 3, 0, 4, 0): <gurobi.Var xv[9,3,0,4,0] (value -0.0)>, (9, 4, 0, 0, 0): <gurobi.Var xv[9,4,0,0,0] (value 0.0)>, (9, 4, 0, 1, 0): <gurobi.Var xv[9,4,0,1,0] (value -0.0)>, (9, 4, 0, 2, 0): <gurobi.Var xv[9,4,0,2,0] (value -0.0)>, (9, 4, 0, 3, 0): <gurobi.Var xv[9,4,0,3,0] (value -0.0)>, (9, 4, 0, 4, 0): <gurobi.Var xv[9,4,0,4,0] (value 0.0)>, (10, 0, 0, 0, 0): <gurobi.Var xv[10,0,0,0,0] (value 1.0)>, (10, 0, 0, 1, 0): <gurobi.Var xv[10,0,0,1,0] (value 0.0)>, (10, 0, 0, 2, 0): <gurobi.Var xv[10,0,0,2,0] (value 0.0)>, (10, 0, 0, 3, 0): <gurobi.Var xv[10,0,0,3,0] (value 0.0)>, (10, 0, 0, 4, 0): <gurobi.Var xv[10,0,0,4,0] (value 0.0)>, (10, 1, 0, 0, 0): <gurobi.Var xv[10,1,0,0,0] (value 0.0)>, (10, 1, 0, 1, 0): <gurobi.Var xv[10,1,0,1,0] (value 0.0)>, (10, 1, 0, 2, 0): <gurobi.Var xv[10,1,0,2,0] (value 0.0)>, (10, 1, 0, 3, 0): <gurobi.Var xv[10,1,0,3,0] (value -0.0)>, (10, 1, 0, 4, 0): <gurobi.Var xv[10,1,0,4,0] (value -0.0)>, (10, 2, 0, 0, 0): <gurobi.Var xv[10,2,0,0,0] (value 0.0)>, (10, 2, 0, 1, 0): <gurobi.Var xv[10,2,0,1,0] (value 0.0)>, (10, 2, 0, 2, 0): <gurobi.Var xv[10,2,0,2,0] (value 0.0)>, (10, 2, 0, 3, 0): <gurobi.Var xv[10,2,0,3,0] (value -0.0)>, (10, 2, 0, 4, 0): <gurobi.Var xv[10,2,0,4,0] (value -0.0)>, (10, 3, 0, 0, 0): <gurobi.Var xv[10,3,0,0,0] (value 0.0)>, (10, 3, 0, 1, 0): <gurobi.Var xv[10,3,0,1,0] (value -0.0)>, (10, 3, 0, 2, 0): <gurobi.Var xv[10,3,0,2,0] (value -0.0)>, (10, 3, 0, 3, 0): <gurobi.Var xv[10,3,0,3,0] (value 0.0)>, (10, 3, 0, 4, 0): <gurobi.Var xv[10,3,0,4,0] (value -0.0)>, (10, 4, 0, 0, 0): <gurobi.Var xv[10,4,0,0,0] (value 0.0)>, (10, 4, 0, 1, 0): <gurobi.Var xv[10,4,0,1,0] (value -0.0)>, (10, 4, 0, 2, 0): <gurobi.Var xv[10,4,0,2,0] (value -0.0)>, (10, 4, 0, 3, 0): <gurobi.Var xv[10,4,0,3,0] (value -0.0)>, (10, 4, 0, 4, 0): <gurobi.Var xv[10,4,0,4,0] (value 0.0)>, (11, 0, 0, 0, 0): <gurobi.Var xv[11,0,0,0,0] (value 1.0)>, (11, 0, 0, 1, 0): <gurobi.Var xv[11,0,0,1,0] (value 0.0)>, (11, 0, 0, 2, 0): <gurobi.Var xv[11,0,0,2,0] (value 0.0)>, (11, 0, 0, 3, 0): <gurobi.Var xv[11,0,0,3,0] (value 0.0)>, (11, 0, 0, 4, 0): <gurobi.Var xv[11,0,0,4,0] (value 0.0)>, (11, 1, 0, 0, 0): <gurobi.Var xv[11,1,0,0,0] (value 0.0)>, (11, 1, 0, 1, 0): <gurobi.Var xv[11,1,0,1,0] (value 0.0)>, (11, 1, 0, 2, 0): <gurobi.Var xv[11,1,0,2,0] (value -0.0)>, (11, 1, 0, 3, 0): <gurobi.Var xv[11,1,0,3,0] (value -0.0)>, (11, 1, 0, 4, 0): <gurobi.Var xv[11,1,0,4,0] (value -0.0)>, (11, 2, 0, 0, 0): <gurobi.Var xv[11,2,0,0,0] (value 0.0)>, (11, 2, 0, 1, 0): <gurobi.Var xv[11,2,0,1,0] (value -0.0)>, (11, 2, 0, 2, 0): <gurobi.Var xv[11,2,0,2,0] (value 0.0)>, (11, 2, 0, 3, 0): <gurobi.Var xv[11,2,0,3,0] (value -0.0)>, (11, 2, 0, 4, 0): <gurobi.Var xv[11,2,0,4,0] (value 0.0)>, (11, 3, 0, 0, 0): <gurobi.Var xv[11,3,0,0,0] (value 0.0)>, (11, 3, 0, 1, 0): <gurobi.Var xv[11,3,0,1,0] (value -0.0)>, (11, 3, 0, 2, 0): <gurobi.Var xv[11,3,0,2,0] (value -0.0)>, (11, 3, 0, 3, 0): <gurobi.Var xv[11,3,0,3,0] (value 0.0)>, (11, 3, 0, 4, 0): <gurobi.Var xv[11,3,0,4,0] (value -0.0)>, (11, 4, 0, 0, 0): <gurobi.Var xv[11,4,0,0,0] (value 0.0)>, (11, 4, 0, 1, 0): <gurobi.Var xv[11,4,0,1,0] (value -0.0)>, (11, 4, 0, 2, 0): <gurobi.Var xv[11,4,0,2,0] (value 0.0)>, (11, 4, 0, 3, 0): <gurobi.Var xv[11,4,0,3,0] (value -0.0)>, (11, 4, 0, 4, 0): <gurobi.Var xv[11,4,0,4,0] (value 0.0)>, (12, 0, 0, 0, 0): <gurobi.Var xv[12,0,0,0,0] (value 1.0)>, (12, 0, 0, 1, 0): <gurobi.Var xv[12,0,0,1,0] (value 0.0)>, (12, 0, 0, 2, 0): <gurobi.Var xv[12,0,0,2,0] (value 0.0)>, (12, 0, 0, 3, 0): <gurobi.Var xv[12,0,0,3,0] (value 0.0)>, (12, 0, 0, 4, 0): <gurobi.Var xv[12,0,0,4,0] (value 0.0)>, (12, 1, 0, 0, 0): <gurobi.Var xv[12,1,0,0,0] (value 0.0)>, (12, 1, 0, 1, 0): <gurobi.Var xv[12,1,0,1,0] (value 0.0)>, (12, 1, 0, 2, 0): <gurobi.Var xv[12,1,0,2,0] (value -0.0)>, (12, 1, 0, 3, 0): <gurobi.Var xv[12,1,0,3,0] (value -0.0)>, (12, 1, 0, 4, 0): <gurobi.Var xv[12,1,0,4,0] (value -0.0)>, (12, 2, 0, 0, 0): <gurobi.Var xv[12,2,0,0,0] (value 0.0)>, (12, 2, 0, 1, 0): <gurobi.Var xv[12,2,0,1,0] (value -0.0)>, (12, 2, 0, 2, 0): <gurobi.Var xv[12,2,0,2,0] (value 0.0)>, (12, 2, 0, 3, 0): <gurobi.Var xv[12,2,0,3,0] (value -0.0)>, (12, 2, 0, 4, 0): <gurobi.Var xv[12,2,0,4,0] (value -0.0)>, (12, 3, 0, 0, 0): <gurobi.Var xv[12,3,0,0,0] (value 0.0)>, (12, 3, 0, 1, 0): <gurobi.Var xv[12,3,0,1,0] (value -0.0)>, (12, 3, 0, 2, 0): <gurobi.Var xv[12,3,0,2,0] (value -0.0)>, (12, 3, 0, 3, 0): <gurobi.Var xv[12,3,0,3,0] (value 0.0)>, (12, 3, 0, 4, 0): <gurobi.Var xv[12,3,0,4,0] (value 0.0)>, (12, 4, 0, 0, 0): <gurobi.Var xv[12,4,0,0,0] (value 0.0)>, (12, 4, 0, 1, 0): <gurobi.Var xv[12,4,0,1,0] (value -0.0)>, (12, 4, 0, 2, 0): <gurobi.Var xv[12,4,0,2,0] (value -0.0)>, (12, 4, 0, 3, 0): <gurobi.Var xv[12,4,0,3,0] (value 0.0)>, (12, 4, 0, 4, 0): <gurobi.Var xv[12,4,0,4,0] (value 0.0)>, (13, 0, 0, 0, 0): <gurobi.Var xv[13,0,0,0,0] (value 1.0)>, (13, 0, 0, 1, 0): <gurobi.Var xv[13,0,0,1,0] (value 0.0)>, (13, 0, 0, 2, 0): <gurobi.Var xv[13,0,0,2,0] (value 0.0)>, (13, 0, 0, 3, 0): <gurobi.Var xv[13,0,0,3,0] (value 0.0)>, (13, 0, 0, 4, 0): <gurobi.Var xv[13,0,0,4,0] (value 0.0)>, (13, 1, 0, 0, 0): <gurobi.Var xv[13,1,0,0,0] (value 0.0)>, (13, 1, 0, 1, 0): <gurobi.Var xv[13,1,0,1,0] (value 0.0)>, (13, 1, 0, 2, 0): <gurobi.Var xv[13,1,0,2,0] (value -0.0)>, (13, 1, 0, 3, 0): <gurobi.Var xv[13,1,0,3,0] (value -0.0)>, (13, 1, 0, 4, 0): <gurobi.Var xv[13,1,0,4,0] (value -0.0)>, (13, 2, 0, 0, 0): <gurobi.Var xv[13,2,0,0,0] (value 0.0)>, (13, 2, 0, 1, 0): <gurobi.Var xv[13,2,0,1,0] (value -0.0)>, (13, 2, 0, 2, 0): <gurobi.Var xv[13,2,0,2,0] (value 0.0)>, (13, 2, 0, 3, 0): <gurobi.Var xv[13,2,0,3,0] (value -0.0)>, (13, 2, 0, 4, 0): <gurobi.Var xv[13,2,0,4,0] (value 0.0)>, (13, 3, 0, 0, 0): <gurobi.Var xv[13,3,0,0,0] (value 0.0)>, (13, 3, 0, 1, 0): <gurobi.Var xv[13,3,0,1,0] (value -0.0)>, (13, 3, 0, 2, 0): <gurobi.Var xv[13,3,0,2,0] (value -0.0)>, (13, 3, 0, 3, 0): <gurobi.Var xv[13,3,0,3,0] (value 0.0)>, (13, 3, 0, 4, 0): <gurobi.Var xv[13,3,0,4,0] (value -0.0)>, (13, 4, 0, 0, 0): <gurobi.Var xv[13,4,0,0,0] (value 0.0)>, (13, 4, 0, 1, 0): <gurobi.Var xv[13,4,0,1,0] (value 0.0)>, (13, 4, 0, 2, 0): <gurobi.Var xv[13,4,0,2,0] (value -0.0)>, (13, 4, 0, 3, 0): <gurobi.Var xv[13,4,0,3,0] (value -0.0)>, (13, 4, 0, 4, 0): <gurobi.Var xv[13,4,0,4,0] (value 0.0)>, (14, 0, 0, 0, 0): <gurobi.Var xv[14,0,0,0,0] (value 1.0)>, (14, 0, 0, 1, 0): <gurobi.Var xv[14,0,0,1,0] (value 0.0)>, (14, 0, 0, 2, 0): <gurobi.Var xv[14,0,0,2,0] (value 0.0)>, (14, 0, 0, 3, 0): <gurobi.Var xv[14,0,0,3,0] (value 0.0)>, (14, 0, 0, 4, 0): <gurobi.Var xv[14,0,0,4,0] (value 0.0)>, (14, 1, 0, 0, 0): <gurobi.Var xv[14,1,0,0,0] (value 0.0)>, (14, 1, 0, 1, 0): <gurobi.Var xv[14,1,0,1,0] (value 0.0)>, (14, 1, 0, 2, 0): <gurobi.Var xv[14,1,0,2,0] (value -0.0)>, (14, 1, 0, 3, 0): <gurobi.Var xv[14,1,0,3,0] (value 0.0)>, (14, 1, 0, 4, 0): <gurobi.Var xv[14,1,0,4,0] (value 0.0)>, (14, 2, 0, 0, 0): <gurobi.Var xv[14,2,0,0,0] (value 0.0)>, (14, 2, 0, 1, 0): <gurobi.Var xv[14,2,0,1,0] (value -0.0)>, (14, 2, 0, 2, 0): <gurobi.Var xv[14,2,0,2,0] (value 0.0)>, (14, 2, 0, 3, 0): <gurobi.Var xv[14,2,0,3,0] (value -0.0)>, (14, 2, 0, 4, 0): <gurobi.Var xv[14,2,0,4,0] (value -0.0)>, (14, 3, 0, 0, 0): <gurobi.Var xv[14,3,0,0,0] (value 0.0)>, (14, 3, 0, 1, 0): <gurobi.Var xv[14,3,0,1,0] (value 0.0)>, (14, 3, 0, 2, 0): <gurobi.Var xv[14,3,0,2,0] (value -0.0)>, (14, 3, 0, 3, 0): <gurobi.Var xv[14,3,0,3,0] (value 0.0)>, (14, 3, 0, 4, 0): <gurobi.Var xv[14,3,0,4,0] (value -0.0)>, (14, 4, 0, 0, 0): <gurobi.Var xv[14,4,0,0,0] (value 0.0)>, (14, 4, 0, 1, 0): <gurobi.Var xv[14,4,0,1,0] (value 0.0)>, (14, 4, 0, 2, 0): <gurobi.Var xv[14,4,0,2,0] (value 0.0)>, (14, 4, 0, 3, 0): <gurobi.Var xv[14,4,0,3,0] (value -0.0)>, (14, 4, 0, 4, 0): <gurobi.Var xv[14,4,0,4,0] (value 0.0)>}\n"
     ]
    }
   ],
   "source": [
    "print(xv)"
   ]
  },
  {
   "cell_type": "code",
   "execution_count": 24,
   "metadata": {},
   "outputs": [
    {
     "data": {
      "text/plain": [
       "[(0, 0, 0, 0, 0),\n",
       " (0, 0, 0, 1, 0),\n",
       " (0, 0, 0, 2, 0),\n",
       " (0, 0, 0, 3, 0),\n",
       " (0, 0, 0, 4, 0),\n",
       " (0, 1, 0, 0, 0),\n",
       " (0, 1, 0, 1, 0),\n",
       " (0, 1, 0, 2, 0),\n",
       " (0, 1, 0, 3, 0),\n",
       " (0, 1, 0, 4, 0),\n",
       " (0, 2, 0, 0, 0),\n",
       " (0, 2, 0, 1, 0),\n",
       " (0, 2, 0, 2, 0),\n",
       " (0, 2, 0, 3, 0),\n",
       " (0, 2, 0, 4, 0),\n",
       " (0, 3, 0, 0, 0),\n",
       " (0, 3, 0, 1, 0),\n",
       " (0, 3, 0, 2, 0),\n",
       " (0, 3, 0, 3, 0),\n",
       " (0, 3, 0, 4, 0),\n",
       " (0, 4, 0, 0, 0),\n",
       " (0, 4, 0, 1, 0),\n",
       " (0, 4, 0, 2, 0),\n",
       " (0, 4, 0, 3, 0),\n",
       " (0, 4, 0, 4, 0),\n",
       " (1, 0, 0, 0, 0),\n",
       " (1, 0, 0, 1, 0),\n",
       " (1, 0, 0, 2, 0),\n",
       " (1, 0, 0, 3, 0),\n",
       " (1, 0, 0, 4, 0),\n",
       " (1, 1, 0, 0, 0),\n",
       " (1, 1, 0, 1, 0),\n",
       " (1, 1, 0, 2, 0),\n",
       " (1, 1, 0, 3, 0),\n",
       " (1, 1, 0, 4, 0),\n",
       " (1, 2, 0, 0, 0),\n",
       " (1, 2, 0, 1, 0),\n",
       " (1, 2, 0, 2, 0),\n",
       " (1, 2, 0, 3, 0),\n",
       " (1, 2, 0, 4, 0),\n",
       " (1, 3, 0, 0, 0),\n",
       " (1, 3, 0, 1, 0),\n",
       " (1, 3, 0, 2, 0),\n",
       " (1, 3, 0, 3, 0),\n",
       " (1, 3, 0, 4, 0),\n",
       " (1, 4, 0, 0, 0),\n",
       " (1, 4, 0, 1, 0),\n",
       " (1, 4, 0, 2, 0),\n",
       " (1, 4, 0, 3, 0),\n",
       " (1, 4, 0, 4, 0),\n",
       " (2, 0, 0, 0, 0),\n",
       " (2, 0, 0, 1, 0),\n",
       " (2, 0, 0, 2, 0),\n",
       " (2, 0, 0, 3, 0),\n",
       " (2, 0, 0, 4, 0),\n",
       " (2, 1, 0, 0, 0),\n",
       " (2, 1, 0, 1, 0),\n",
       " (2, 1, 0, 2, 0),\n",
       " (2, 1, 0, 3, 0),\n",
       " (2, 1, 0, 4, 0),\n",
       " (2, 2, 0, 0, 0),\n",
       " (2, 2, 0, 1, 0),\n",
       " (2, 2, 0, 2, 0),\n",
       " (2, 2, 0, 3, 0),\n",
       " (2, 2, 0, 4, 0),\n",
       " (2, 3, 0, 0, 0),\n",
       " (2, 3, 0, 1, 0),\n",
       " (2, 3, 0, 2, 0),\n",
       " (2, 3, 0, 3, 0),\n",
       " (2, 3, 0, 4, 0),\n",
       " (2, 4, 0, 0, 0),\n",
       " (2, 4, 0, 1, 0),\n",
       " (2, 4, 0, 2, 0),\n",
       " (2, 4, 0, 3, 0),\n",
       " (2, 4, 0, 4, 0),\n",
       " (3, 0, 0, 0, 0),\n",
       " (3, 0, 0, 1, 0),\n",
       " (3, 0, 0, 2, 0),\n",
       " (3, 0, 0, 3, 0),\n",
       " (3, 0, 0, 4, 0),\n",
       " (3, 1, 0, 0, 0),\n",
       " (3, 1, 0, 1, 0),\n",
       " (3, 1, 0, 2, 0),\n",
       " (3, 1, 0, 3, 0),\n",
       " (3, 1, 0, 4, 0),\n",
       " (3, 2, 0, 0, 0),\n",
       " (3, 2, 0, 1, 0),\n",
       " (3, 2, 0, 2, 0),\n",
       " (3, 2, 0, 3, 0),\n",
       " (3, 2, 0, 4, 0),\n",
       " (3, 3, 0, 0, 0),\n",
       " (3, 3, 0, 1, 0),\n",
       " (3, 3, 0, 2, 0),\n",
       " (3, 3, 0, 3, 0),\n",
       " (3, 3, 0, 4, 0),\n",
       " (3, 4, 0, 0, 0),\n",
       " (3, 4, 0, 1, 0),\n",
       " (3, 4, 0, 2, 0),\n",
       " (3, 4, 0, 3, 0),\n",
       " (3, 4, 0, 4, 0),\n",
       " (4, 0, 0, 0, 0),\n",
       " (4, 0, 0, 1, 0),\n",
       " (4, 0, 0, 2, 0),\n",
       " (4, 0, 0, 3, 0),\n",
       " (4, 0, 0, 4, 0),\n",
       " (4, 1, 0, 0, 0),\n",
       " (4, 1, 0, 1, 0),\n",
       " (4, 1, 0, 2, 0),\n",
       " (4, 1, 0, 3, 0),\n",
       " (4, 1, 0, 4, 0),\n",
       " (4, 2, 0, 0, 0),\n",
       " (4, 2, 0, 1, 0),\n",
       " (4, 2, 0, 2, 0),\n",
       " (4, 2, 0, 3, 0),\n",
       " (4, 2, 0, 4, 0),\n",
       " (4, 3, 0, 0, 0),\n",
       " (4, 3, 0, 1, 0),\n",
       " (4, 3, 0, 2, 0),\n",
       " (4, 3, 0, 3, 0),\n",
       " (4, 3, 0, 4, 0),\n",
       " (4, 4, 0, 0, 0),\n",
       " (4, 4, 0, 1, 0),\n",
       " (4, 4, 0, 2, 0),\n",
       " (4, 4, 0, 3, 0),\n",
       " (4, 4, 0, 4, 0),\n",
       " (5, 0, 0, 0, 0),\n",
       " (5, 0, 0, 1, 0),\n",
       " (5, 0, 0, 2, 0),\n",
       " (5, 0, 0, 3, 0),\n",
       " (5, 0, 0, 4, 0),\n",
       " (5, 1, 0, 0, 0),\n",
       " (5, 1, 0, 1, 0),\n",
       " (5, 1, 0, 2, 0),\n",
       " (5, 1, 0, 3, 0),\n",
       " (5, 1, 0, 4, 0),\n",
       " (5, 2, 0, 0, 0),\n",
       " (5, 2, 0, 1, 0),\n",
       " (5, 2, 0, 2, 0),\n",
       " (5, 2, 0, 3, 0),\n",
       " (5, 2, 0, 4, 0),\n",
       " (5, 3, 0, 0, 0),\n",
       " (5, 3, 0, 1, 0),\n",
       " (5, 3, 0, 2, 0),\n",
       " (5, 3, 0, 3, 0),\n",
       " (5, 3, 0, 4, 0),\n",
       " (5, 4, 0, 0, 0),\n",
       " (5, 4, 0, 1, 0),\n",
       " (5, 4, 0, 2, 0),\n",
       " (5, 4, 0, 3, 0),\n",
       " (5, 4, 0, 4, 0),\n",
       " (6, 0, 0, 0, 0),\n",
       " (6, 0, 0, 1, 0),\n",
       " (6, 0, 0, 2, 0),\n",
       " (6, 0, 0, 3, 0),\n",
       " (6, 0, 0, 4, 0),\n",
       " (6, 1, 0, 0, 0),\n",
       " (6, 1, 0, 1, 0),\n",
       " (6, 1, 0, 2, 0),\n",
       " (6, 1, 0, 3, 0),\n",
       " (6, 1, 0, 4, 0),\n",
       " (6, 2, 0, 0, 0),\n",
       " (6, 2, 0, 1, 0),\n",
       " (6, 2, 0, 2, 0),\n",
       " (6, 2, 0, 3, 0),\n",
       " (6, 2, 0, 4, 0),\n",
       " (6, 3, 0, 0, 0),\n",
       " (6, 3, 0, 1, 0),\n",
       " (6, 3, 0, 2, 0),\n",
       " (6, 3, 0, 3, 0),\n",
       " (6, 3, 0, 4, 0),\n",
       " (6, 4, 0, 0, 0),\n",
       " (6, 4, 0, 1, 0),\n",
       " (6, 4, 0, 2, 0),\n",
       " (6, 4, 0, 3, 0),\n",
       " (6, 4, 0, 4, 0),\n",
       " (7, 0, 0, 0, 0),\n",
       " (7, 0, 0, 1, 0),\n",
       " (7, 0, 0, 2, 0),\n",
       " (7, 0, 0, 3, 0),\n",
       " (7, 0, 0, 4, 0),\n",
       " (7, 1, 0, 0, 0),\n",
       " (7, 1, 0, 1, 0),\n",
       " (7, 1, 0, 2, 0),\n",
       " (7, 1, 0, 3, 0),\n",
       " (7, 1, 0, 4, 0),\n",
       " (7, 2, 0, 0, 0),\n",
       " (7, 2, 0, 1, 0),\n",
       " (7, 2, 0, 2, 0),\n",
       " (7, 2, 0, 3, 0),\n",
       " (7, 2, 0, 4, 0),\n",
       " (7, 3, 0, 0, 0),\n",
       " (7, 3, 0, 1, 0),\n",
       " (7, 3, 0, 2, 0),\n",
       " (7, 3, 0, 3, 0),\n",
       " (7, 3, 0, 4, 0),\n",
       " (7, 4, 0, 0, 0),\n",
       " (7, 4, 0, 1, 0),\n",
       " (7, 4, 0, 2, 0),\n",
       " (7, 4, 0, 3, 0),\n",
       " (7, 4, 0, 4, 0),\n",
       " (8, 0, 0, 0, 0),\n",
       " (8, 0, 0, 1, 0),\n",
       " (8, 0, 0, 2, 0),\n",
       " (8, 0, 0, 3, 0),\n",
       " (8, 0, 0, 4, 0),\n",
       " (8, 1, 0, 0, 0),\n",
       " (8, 1, 0, 1, 0),\n",
       " (8, 1, 0, 2, 0),\n",
       " (8, 1, 0, 3, 0),\n",
       " (8, 1, 0, 4, 0),\n",
       " (8, 2, 0, 0, 0),\n",
       " (8, 2, 0, 1, 0),\n",
       " (8, 2, 0, 2, 0),\n",
       " (8, 2, 0, 3, 0),\n",
       " (8, 2, 0, 4, 0),\n",
       " (8, 3, 0, 0, 0),\n",
       " (8, 3, 0, 1, 0),\n",
       " (8, 3, 0, 2, 0),\n",
       " (8, 3, 0, 3, 0),\n",
       " (8, 3, 0, 4, 0),\n",
       " (8, 4, 0, 0, 0),\n",
       " (8, 4, 0, 1, 0),\n",
       " (8, 4, 0, 2, 0),\n",
       " (8, 4, 0, 3, 0),\n",
       " (8, 4, 0, 4, 0),\n",
       " (9, 0, 0, 0, 0),\n",
       " (9, 0, 0, 1, 0),\n",
       " (9, 0, 0, 2, 0),\n",
       " (9, 0, 0, 3, 0),\n",
       " (9, 0, 0, 4, 0),\n",
       " (9, 1, 0, 0, 0),\n",
       " (9, 1, 0, 1, 0),\n",
       " (9, 1, 0, 2, 0),\n",
       " (9, 1, 0, 3, 0),\n",
       " (9, 1, 0, 4, 0),\n",
       " (9, 2, 0, 0, 0),\n",
       " (9, 2, 0, 1, 0),\n",
       " (9, 2, 0, 2, 0),\n",
       " (9, 2, 0, 3, 0),\n",
       " (9, 2, 0, 4, 0),\n",
       " (9, 3, 0, 0, 0),\n",
       " (9, 3, 0, 1, 0),\n",
       " (9, 3, 0, 2, 0),\n",
       " (9, 3, 0, 3, 0),\n",
       " (9, 3, 0, 4, 0),\n",
       " (9, 4, 0, 0, 0),\n",
       " (9, 4, 0, 1, 0),\n",
       " (9, 4, 0, 2, 0),\n",
       " (9, 4, 0, 3, 0),\n",
       " (9, 4, 0, 4, 0),\n",
       " (10, 0, 0, 0, 0),\n",
       " (10, 0, 0, 1, 0),\n",
       " (10, 0, 0, 2, 0),\n",
       " (10, 0, 0, 3, 0),\n",
       " (10, 0, 0, 4, 0),\n",
       " (10, 1, 0, 0, 0),\n",
       " (10, 1, 0, 1, 0),\n",
       " (10, 1, 0, 2, 0),\n",
       " (10, 1, 0, 3, 0),\n",
       " (10, 1, 0, 4, 0),\n",
       " (10, 2, 0, 0, 0),\n",
       " (10, 2, 0, 1, 0),\n",
       " (10, 2, 0, 2, 0),\n",
       " (10, 2, 0, 3, 0),\n",
       " (10, 2, 0, 4, 0),\n",
       " (10, 3, 0, 0, 0),\n",
       " (10, 3, 0, 1, 0),\n",
       " (10, 3, 0, 2, 0),\n",
       " (10, 3, 0, 3, 0),\n",
       " (10, 3, 0, 4, 0),\n",
       " (10, 4, 0, 0, 0),\n",
       " (10, 4, 0, 1, 0),\n",
       " (10, 4, 0, 2, 0),\n",
       " (10, 4, 0, 3, 0),\n",
       " (10, 4, 0, 4, 0),\n",
       " (11, 0, 0, 0, 0),\n",
       " (11, 0, 0, 1, 0),\n",
       " (11, 0, 0, 2, 0),\n",
       " (11, 0, 0, 3, 0),\n",
       " (11, 0, 0, 4, 0),\n",
       " (11, 1, 0, 0, 0),\n",
       " (11, 1, 0, 1, 0),\n",
       " (11, 1, 0, 2, 0),\n",
       " (11, 1, 0, 3, 0),\n",
       " (11, 1, 0, 4, 0),\n",
       " (11, 2, 0, 0, 0),\n",
       " (11, 2, 0, 1, 0),\n",
       " (11, 2, 0, 2, 0),\n",
       " (11, 2, 0, 3, 0),\n",
       " (11, 2, 0, 4, 0),\n",
       " (11, 3, 0, 0, 0),\n",
       " (11, 3, 0, 1, 0),\n",
       " (11, 3, 0, 2, 0),\n",
       " (11, 3, 0, 3, 0),\n",
       " (11, 3, 0, 4, 0),\n",
       " (11, 4, 0, 0, 0),\n",
       " (11, 4, 0, 1, 0),\n",
       " (11, 4, 0, 2, 0),\n",
       " (11, 4, 0, 3, 0),\n",
       " (11, 4, 0, 4, 0),\n",
       " (12, 0, 0, 0, 0),\n",
       " (12, 0, 0, 1, 0),\n",
       " (12, 0, 0, 2, 0),\n",
       " (12, 0, 0, 3, 0),\n",
       " (12, 0, 0, 4, 0),\n",
       " (12, 1, 0, 0, 0),\n",
       " (12, 1, 0, 1, 0),\n",
       " (12, 1, 0, 2, 0),\n",
       " (12, 1, 0, 3, 0),\n",
       " (12, 1, 0, 4, 0),\n",
       " (12, 2, 0, 0, 0),\n",
       " (12, 2, 0, 1, 0),\n",
       " (12, 2, 0, 2, 0),\n",
       " (12, 2, 0, 3, 0),\n",
       " (12, 2, 0, 4, 0),\n",
       " (12, 3, 0, 0, 0),\n",
       " (12, 3, 0, 1, 0),\n",
       " (12, 3, 0, 2, 0),\n",
       " (12, 3, 0, 3, 0),\n",
       " (12, 3, 0, 4, 0),\n",
       " (12, 4, 0, 0, 0),\n",
       " (12, 4, 0, 1, 0),\n",
       " (12, 4, 0, 2, 0),\n",
       " (12, 4, 0, 3, 0),\n",
       " (12, 4, 0, 4, 0),\n",
       " (13, 0, 0, 0, 0),\n",
       " (13, 0, 0, 1, 0),\n",
       " (13, 0, 0, 2, 0),\n",
       " (13, 0, 0, 3, 0),\n",
       " (13, 0, 0, 4, 0),\n",
       " (13, 1, 0, 0, 0),\n",
       " (13, 1, 0, 1, 0),\n",
       " (13, 1, 0, 2, 0),\n",
       " (13, 1, 0, 3, 0),\n",
       " (13, 1, 0, 4, 0),\n",
       " (13, 2, 0, 0, 0),\n",
       " (13, 2, 0, 1, 0),\n",
       " (13, 2, 0, 2, 0),\n",
       " (13, 2, 0, 3, 0),\n",
       " (13, 2, 0, 4, 0),\n",
       " (13, 3, 0, 0, 0),\n",
       " (13, 3, 0, 1, 0),\n",
       " (13, 3, 0, 2, 0),\n",
       " (13, 3, 0, 3, 0),\n",
       " (13, 3, 0, 4, 0),\n",
       " (13, 4, 0, 0, 0),\n",
       " (13, 4, 0, 1, 0),\n",
       " (13, 4, 0, 2, 0),\n",
       " (13, 4, 0, 3, 0),\n",
       " (13, 4, 0, 4, 0),\n",
       " (14, 0, 0, 0, 0),\n",
       " (14, 0, 0, 1, 0),\n",
       " (14, 0, 0, 2, 0),\n",
       " (14, 0, 0, 3, 0),\n",
       " (14, 0, 0, 4, 0),\n",
       " (14, 1, 0, 0, 0),\n",
       " (14, 1, 0, 1, 0),\n",
       " (14, 1, 0, 2, 0),\n",
       " (14, 1, 0, 3, 0),\n",
       " (14, 1, 0, 4, 0),\n",
       " (14, 2, 0, 0, 0),\n",
       " (14, 2, 0, 1, 0),\n",
       " (14, 2, 0, 2, 0),\n",
       " (14, 2, 0, 3, 0),\n",
       " (14, 2, 0, 4, 0),\n",
       " (14, 3, 0, 0, 0),\n",
       " (14, 3, 0, 1, 0),\n",
       " (14, 3, 0, 2, 0),\n",
       " (14, 3, 0, 3, 0),\n",
       " (14, 3, 0, 4, 0),\n",
       " (14, 4, 0, 0, 0),\n",
       " (14, 4, 0, 1, 0),\n",
       " (14, 4, 0, 2, 0),\n",
       " (14, 4, 0, 3, 0),\n",
       " (14, 4, 0, 4, 0)]"
      ]
     },
     "execution_count": 24,
     "metadata": {},
     "output_type": "execute_result"
    }
   ],
   "source": [
    "arcosVRP"
   ]
  },
  {
   "cell_type": "code",
   "execution_count": 25,
   "metadata": {},
   "outputs": [
    {
     "name": "stdout",
     "output_type": "stream",
     "text": [
      "<gurobi.Var makespan (value 600.0)>\n"
     ]
    }
   ],
   "source": [
    "print(ym)"
   ]
  },
  {
   "cell_type": "code",
   "execution_count": null,
   "metadata": {},
   "outputs": [],
   "source": []
  }
 ],
 "metadata": {
  "kernelspec": {
   "display_name": "Python 3 (ipykernel)",
   "language": "python",
   "name": "python3"
  },
  "language_info": {
   "codemirror_mode": {
    "name": "ipython",
    "version": 3
   },
   "file_extension": ".py",
   "mimetype": "text/x-python",
   "name": "python",
   "nbconvert_exporter": "python",
   "pygments_lexer": "ipython3",
   "version": "3.9.13"
  }
 },
 "nbformat": 4,
 "nbformat_minor": 4
}
